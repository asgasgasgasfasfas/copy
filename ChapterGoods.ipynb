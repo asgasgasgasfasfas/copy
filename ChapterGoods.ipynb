{
 "cells": [
  {
   "cell_type": "code",
   "execution_count": null,
   "metadata": {},
   "outputs": [],
   "source": []
  },
  {
   "cell_type": "code",
   "execution_count": null,
   "metadata": {},
   "outputs": [
    {
     "name": "stdout",
     "output_type": "stream",
     "text": [
      "Debug: stage = 1015, temp2 = -1\n",
      "monster_hp_stat_excel = a1:1000,a2:622481,a3:510,a4:1496,a5:0\n",
      "Debug: stage = 1016, temp2 = -1\n",
      "monster_hp_stat_excel = a1:1000,a2:622901,a3:510,a4:1497,a5:0\n",
      "Debug: stage = 1017, temp2 = -1\n",
      "monster_hp_stat_excel = a1:1000,a2:623321,a3:510,a4:1498,a5:0\n",
      "Debug: stage = 1018, temp2 = -1\n",
      "monster_hp_stat_excel = a1:1000,a2:623741,a3:510,a4:1499,a5:0\n",
      "Debug: stage = 1019, temp2 = -1\n",
      "monster_hp_stat_excel = a1:1000,a2:624161,a3:510,a4:1500,a5:0\n",
      "Debug: stage = 1020, temp2 = 0\n",
      "monster_hp_stat_excel = a1:1000,a2:624581,a3:510,a4:1501,a5:0\n",
      "Debug: stage = 1021, temp2 = 0\n",
      "monster_hp_stat_excel = a1:1000,a2:625001,a3:510,a4:1502,a5:0\n",
      "Debug: stage = 1022, temp2 = 0\n",
      "monster_hp_stat_excel = a1:1000,a2:625421,a3:510,a4:1503,a5:0\n",
      "Debug: stage = 1023, temp2 = 0\n",
      "monster_hp_stat_excel = a1:1000,a2:625841,a3:510,a4:1504,a5:0\n",
      "Debug: stage = 1024, temp2 = 0\n",
      "monster_hp_stat_excel = a1:1000,a2:626261,a3:510,a4:1505,a5:0\n",
      "Debug: stage = 1025, temp2 = 0\n",
      "monster_hp_stat_excel = a1:1000,a2:626681,a3:510,a4:1506,a5:0\n",
      "Debug: stage = 1026, temp2 = 0\n",
      "monster_hp_stat_excel = a1:1000,a2:627101,a3:510,a4:1507,a5:0\n",
      "Debug: stage = 1027, temp2 = 0\n",
      "monster_hp_stat_excel = a1:1000,a2:627521,a3:510,a4:1508,a5:0\n",
      "Debug: stage = 1028, temp2 = 0\n",
      "monster_hp_stat_excel = a1:1000,a2:627941,a3:510,a4:1509,a5:0\n",
      "Debug: stage = 1029, temp2 = 0\n",
      "monster_hp_stat_excel = a1:1000,a2:628361,a3:510,a4:1510,a5:0\n",
      "Debug: stage = 1030, temp2 = 0\n",
      "monster_hp_stat_excel = a1:1000,a2:628781,a3:515,a4:1511,a5:0\n",
      "Debug: stage = 1031, temp2 = 0\n",
      "monster_hp_stat_excel = a1:1000,a2:629201,a3:515,a4:1512,a5:0\n"
     ]
    },
    {
     "ename": "",
     "evalue": "",
     "output_type": "error",
     "traceback": [
      "\u001b[1;31m현재 셀 또는 이전 셀에서 코드를 실행하는 동안 Kernel이 충돌했습니다. \n",
      "\u001b[1;31m셀의 코드를 검토하여 가능한 오류 원인을 식별하세요. \n",
      "\u001b[1;31m자세한 내용을 보려면 <a href='https://aka.ms/vscodeJupyterKernelCrash'>여기</a>를 클릭하세요. \n",
      "\u001b[1;31m자세한 내용은 Jupyter <a href='command:jupyter.viewOutput'>로그</a>를 참조하세요."
     ]
    }
   ],
   "source": [
    "import math\n",
    "\n",
    "def monster_appear( stage):\n",
    "    #stage = int(stage_text)  # myTMPInputField.text에 해당\n",
    "\n",
    "    if stage >= 5:\n",
    "        var = stage - 1020\n",
    "        temp = (int)((stage - 1020) / 10)\n",
    "        temp2 = var // 160  # Python에서는 //가 정수 나눗셈\n",
    "\n",
    "        a1 = 1000\n",
    "        a2 =624581 + 420*(stage -1020) # 0부터 시작 여부는 동일\n",
    "        a3 =  510 + temp* 5; # 인트형식해야\n",
    "        a4 = 1501 +(stage -1020)\n",
    "        a5 = 0\n",
    "        a6 = 17\n",
    "        a7 = 0.1\n",
    "        a8 = 14\n",
    "        a9 = 24\n",
    "        a10 =0\n",
    "        \n",
    "        print(f\"Debug: stage = {stage}, temp2 = {temp2}\")\n",
    "        print(f\"monster_hp_stat_excel = a1:{a1},a2:{a2},a3:{a3},a4:{a4},a5:{a5}\")\n",
    "\n",
    "    return None\n",
    "\n",
    "\n",
    "# 테스트 실행\n",
    "for s in range(1015, 1032):  # 156은 포함 안 됨 → 151~155\n",
    "    monster_appear(s)"
   ]
  },
  {
   "cell_type": "code",
   "execution_count": null,
   "metadata": {},
   "outputs": [],
   "source": []
  }
 ],
 "metadata": {
  "kernelspec": {
   "display_name": "Python 3",
   "language": "python",
   "name": "python3"
  },
  "language_info": {
   "codemirror_mode": {
    "name": "ipython",
    "version": 3
   },
   "file_extension": ".py",
   "mimetype": "text/x-python",
   "name": "python",
   "nbconvert_exporter": "python",
   "pygments_lexer": "ipython3",
   "version": "3.13.1"
  }
 },
 "nbformat": 4,
 "nbformat_minor": 2
}
