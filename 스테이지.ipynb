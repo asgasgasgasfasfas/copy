{
 "cells": [
  {
   "cell_type": "code",
   "execution_count": null,
   "metadata": {},
   "outputs": [],
   "source": []
  },
  {
   "cell_type": "code",
   "execution_count": null,
   "metadata": {},
   "outputs": [
    {
     "name": "stdout",
     "output_type": "stream",
     "text": [
      "Debug: temp = 1, temp2 = 1\n",
      "monster_hp_stat_excel = 122500000000000000000000000000000000000\n"
     ]
    }
   ],
   "source": [
    "import math\n",
    "\n",
    "def aa(stage):\n",
    "    monster_hp_stat_excel = 0  # 초기화\n",
    "    if stage >= 562:\n",
    "        temp = (stage - 562) % 40\n",
    "        temp2 = (stage - 562) // 40  # Python에서 //는 정수 나눗셈\n",
    "        temp3 = 225*40/a\n",
    "        monster_hp_stat_excel = (1000 + 225 * temp) * (10 ** (5 + 8 + 8 + 8 + 5 + temp2))\n",
    "        \n",
    "        # 디버깅 로그 출력\n",
    "        print(f\"Debug: temp = {temp}, temp2 = {temp2}\")\n",
    "        print(f\"monster_hp_stat_excel = {monster_hp_stat_excel}\")\n",
    "    \n",
    "    return monster_hp_stat_excel\n",
    "\n",
    "# 테스트용 호출\n",
    "stage = 603  # 예시 stage 값\n",
    "result = aa(stage)"
   ]
  }
 ],
 "metadata": {
  "kernelspec": {
   "display_name": "Python 3",
   "language": "python",
   "name": "python3"
  },
  "language_info": {
   "codemirror_mode": {
    "name": "ipython",
    "version": 3
   },
   "file_extension": ".py",
   "mimetype": "text/x-python",
   "name": "python",
   "nbconvert_exporter": "python",
   "pygments_lexer": "ipython3",
   "version": "3.13.1"
  }
 },
 "nbformat": 4,
 "nbformat_minor": 2
}
