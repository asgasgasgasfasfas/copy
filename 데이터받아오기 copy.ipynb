{
 "cells": [
  {
   "cell_type": "code",
   "execution_count": null,
   "metadata": {},
   "outputs": [],
   "source": []
  },
  {
   "cell_type": "code",
   "execution_count": 1,
   "metadata": {},
   "outputs": [
    {
     "ename": "ModuleNotFoundError",
     "evalue": "No module named 'matplotlib'",
     "output_type": "error",
     "traceback": [
      "\u001b[1;31m---------------------------------------------------------------------------\u001b[0m",
      "\u001b[1;31mModuleNotFoundError\u001b[0m                       Traceback (most recent call last)",
      "Cell \u001b[1;32mIn[1], line 2\u001b[0m\n\u001b[0;32m      1\u001b[0m \u001b[38;5;28;01mimport\u001b[39;00m\u001b[38;5;250m \u001b[39m\u001b[38;5;21;01mnumpy\u001b[39;00m\u001b[38;5;250m \u001b[39m\u001b[38;5;28;01mas\u001b[39;00m\u001b[38;5;250m \u001b[39m\u001b[38;5;21;01mnp\u001b[39;00m\n\u001b[1;32m----> 2\u001b[0m \u001b[38;5;28;01mimport\u001b[39;00m\u001b[38;5;250m \u001b[39m\u001b[38;5;21;01mmatplotlib\u001b[39;00m\u001b[38;5;21;01m.\u001b[39;00m\u001b[38;5;21;01mpyplot\u001b[39;00m\u001b[38;5;250m \u001b[39m\u001b[38;5;28;01mas\u001b[39;00m\u001b[38;5;250m \u001b[39m\u001b[38;5;21;01mplt\u001b[39;00m\n\u001b[0;32m      4\u001b[0m \u001b[38;5;66;03m# n 값 설정 (1부터 5000까지)\u001b[39;00m\n\u001b[0;32m      5\u001b[0m n \u001b[38;5;241m=\u001b[39m np\u001b[38;5;241m.\u001b[39marange(\u001b[38;5;241m1\u001b[39m, \u001b[38;5;241m5001\u001b[39m)\n",
      "\u001b[1;31mModuleNotFoundError\u001b[0m: No module named 'matplotlib'"
     ]
    }
   ],
   "source": [
    "import numpy as np\n",
    "import matplotlib.pyplot as plt\n",
    "\n",
    "# n 값 설정 (1부터 5000까지)\n",
    "n = np.arange(1, 5001)\n",
    "\n",
    "# 1. 등차수열\n",
    "a_n = 1.5e9 + (n-1) * 8041608\n",
    "\n",
    "# 2. 치명타 확률 반영 골드 증가량\n",
    "k = 2\n",
    "P_n = 0.9 / (1 + np.exp(-0.01 * (n - 2500)))\n",
    "G_n = a_n * (1 + k * P_n)\n",
    "\n",
    "# 3. 지수 함수\n",
    "r1 = 1.0001\n",
    "r2 = 1.0003\n",
    "r3 = 1.005\n",
    "y1_n = 1.5e9 * r1**(n-1)\n",
    "y2_n = 1.5e9 * r2**(n-1)\n",
    "y3_n = 1.5e9 * r3**(n-1)\n",
    "\n",
    "# 첫 번째 그래프: 등차수열과 치명타 확률 반영\n",
    "plt.figure(figsize=(10, 6))\n",
    "plt.plot(n, a_n, label='등차수열 (a_n = 1.5e9 + (n-1)*8041608)', color='blue')\n",
    "plt.plot(n, G_n, label='치명타 확률 반영 (G(n))', color='red', linestyle='--')\n",
    "plt.xlabel('n (항)')\n",
    "plt.ylabel('골드 증가량')\n",
    "plt.title('등차수열 vs 치명타 확률 반영 골드 증가량')\n",
    "plt.legend()\n",
    "plt.grid(True)\n",
    "plt.show()\n",
    "\n",
    "# 두 번째 그래프: 지수 함수 비교\n",
    "plt.figure(figsize=(10, 6))\n",
    "plt.plot(n, y1_n, label='y = 1.5e9 * 1.0001^(n-1)', color='green')\n",
    "plt.plot(n, y2_n, label='y = 1.5e9 * 1.0003^(n-1)', color='purple')\n",
    "plt.plot(n, y3_n, label='y = 1.5e9 * 1.005^(n-1)', color='orange')\n",
    "plt.xlabel('n (항)')\n",
    "plt.ylabel('골드 증가량')\n",
    "plt.title('지수 함수 비교 (r = 1.0001, 1.0003, 1.005)')\n",
    "plt.legend()\n",
    "plt.grid(True)\n",
    "plt.yscale('log')  # 큰 값 차이로 로그 스케일 사용\n",
    "plt.show()"
   ]
  },
  {
   "cell_type": "code",
   "execution_count": null,
   "metadata": {},
   "outputs": [],
   "source": []
  }
 ],
 "metadata": {
  "kernelspec": {
   "display_name": "Python 3",
   "language": "python",
   "name": "python3"
  },
  "language_info": {
   "codemirror_mode": {
    "name": "ipython",
    "version": 3
   },
   "file_extension": ".py",
   "mimetype": "text/x-python",
   "name": "python",
   "nbconvert_exporter": "python",
   "pygments_lexer": "ipython3",
   "version": "3.13.1"
  }
 },
 "nbformat": 4,
 "nbformat_minor": 2
}
