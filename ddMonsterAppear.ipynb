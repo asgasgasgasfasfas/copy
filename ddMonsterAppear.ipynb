{
 "cells": [
  {
   "cell_type": "code",
   "execution_count": null,
   "metadata": {},
   "outputs": [],
   "source": []
  },
  {
   "cell_type": "code",
   "execution_count": null,
   "metadata": {},
   "outputs": [
    {
     "name": "stdout",
     "output_type": "stream",
     "text": [
      "Debug: temp = 0, temp2 = 2\n",
      "monster_hp_stat_excel = a1:10,a2:1,a3:0,a4:1,a5:0\n",
      "Debug: temp = 1, temp2 = 2\n",
      "monster_hp_stat_excel = a1:10,a2:1,a3:0,a4:1,a5:0\n",
      "Debug: temp = 2, temp2 = 2\n",
      "monster_hp_stat_excel = a1:10,a2:2,a3:0,a4:2,a5:0\n",
      "Debug: temp = 3, temp2 = 2\n",
      "monster_hp_stat_excel = a1:10,a2:2,a3:1,a4:2,a5:0\n",
      "Debug: temp = 4, temp2 = 2\n",
      "monster_hp_stat_excel = a1:10,a2:3,a3:0,a4:3,a5:0\n",
      "Debug: temp = 5, temp2 = 2\n",
      "monster_hp_stat_excel = a1:10,a2:3,a3:2,a4:3,a5:0\n",
      "Debug: temp = 6, temp2 = 2\n",
      "monster_hp_stat_excel = a1:10,a2:4,a3:0,a4:4,a5:0\n",
      "Debug: temp = 7, temp2 = 2\n",
      "monster_hp_stat_excel = a1:10,a2:4,a3:3,a4:4,a5:0\n",
      "Debug: temp = 8, temp2 = 2\n",
      "monster_hp_stat_excel = a1:10,a2:5,a3:0,a4:5,a5:0\n",
      "Debug: temp = 9, temp2 = 2\n",
      "monster_hp_stat_excel = a1:10,a2:5,a3:4,a4:5,a5:0\n",
      "Debug: temp = 10, temp2 = 2\n",
      "monster_hp_stat_excel = a1:10,a2:6,a3:0,a4:6,a5:0\n",
      "Debug: temp = 11, temp2 = 2\n",
      "monster_hp_stat_excel = a1:10,a2:6,a3:5,a4:6,a5:0\n",
      "Debug: temp = 12, temp2 = 2\n",
      "monster_hp_stat_excel = a1:10,a2:7,a3:0,a4:7,a5:0\n",
      "Debug: temp = 13, temp2 = 2\n",
      "monster_hp_stat_excel = a1:10,a2:7,a3:6,a4:7,a5:0\n",
      "Debug: temp = 14, temp2 = 2\n",
      "monster_hp_stat_excel = a1:10,a2:8,a3:0,a4:8,a5:0\n",
      "Debug: temp = 15, temp2 = 2\n",
      "monster_hp_stat_excel = a1:10,a2:8,a3:7,a4:8,a5:0\n",
      "Debug: temp = 16, temp2 = 2\n",
      "monster_hp_stat_excel = a1:10,a2:9,a3:0,a4:9,a5:0\n",
      "Debug: temp = 17, temp2 = 3\n",
      "monster_hp_stat_excel = a1:10,a2:9,a3:8,a4:9,a5:0\n",
      "Debug: temp = 18, temp2 = 3\n",
      "monster_hp_stat_excel = a1:10,a2:10,a3:0,a4:10,a5:0\n"
     ]
    }
   ],
   "source": [
    "import math\n",
    "\n",
    "def monster_appear( stage):\n",
    "    #stage = int(stage_text)  # myTMPInputField.text에 해당\n",
    "\n",
    "    if stage >= 131:\n",
    "        var = stage - 131\n",
    "        temp = var % 20\n",
    "        temp2 = var // 160  # Python에서는 //가 정수 나눗셈\n",
    "\n",
    "        a1 = 10\n",
    "        a2 = temp // 2 + 1  # 0부터 시작 여부는 동일\n",
    "        a3 =  (temp // 2)*(temp % 2)\n",
    "        a4 = temp // 2 + 1\n",
    "        a5 = 0\n",
    "        a6 = var // 10 + 1\n",
    "        if(temp2%10):  # 5와 10 \n",
    "            a4 = 101 + temp2%9\n",
    "        elif(temp2%5):\n",
    "            a4 = 102 + temp2%9\n",
    "        # 디버깅 로그 출력\n",
    "        print(f\"Debug: temp = {temp}, temp2 = {temp2}\")\n",
    "        print(f\"monster_hp_stat_excel = a1:{a1},a2:{a2},a3:{a3},a4:{a4},a5:{a5}\")\n",
    "\n",
    "    return None\n",
    "\n",
    "\n",
    "# 테스트 실행\n",
    "for s in range(151, 170):  # 156은 포함 안 됨 → 151~155\n",
    "    monster_appear(s)"
   ]
  },
  {
   "cell_type": "code",
   "execution_count": null,
   "metadata": {},
   "outputs": [],
   "source": []
  }
 ],
 "metadata": {
  "kernelspec": {
   "display_name": "Python 3",
   "language": "python",
   "name": "python3"
  },
  "language_info": {
   "codemirror_mode": {
    "name": "ipython",
    "version": 3
   },
   "file_extension": ".py",
   "mimetype": "text/x-python",
   "name": "python",
   "nbconvert_exporter": "python",
   "pygments_lexer": "ipython3",
   "version": "3.13.1"
  }
 },
 "nbformat": 4,
 "nbformat_minor": 2
}
