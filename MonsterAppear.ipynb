{
 "cells": [
  {
   "cell_type": "code",
   "execution_count": null,
   "metadata": {},
   "outputs": [],
   "source": []
  },
  {
   "cell_type": "code",
   "execution_count": 4,
   "metadata": {},
   "outputs": [
    {
     "name": "stdout",
     "output_type": "stream",
     "text": [
      "Debug: temp = 35, temp2 = 0\n",
      "monster_hp_stat_excel = 2000,40,30,1,1\n"
     ]
    }
   ],
   "source": [
    "import math\n",
    "\n",
    "def aa(stage):\n",
    "    monster_hp_stat_excel = 0  # 초기화 48부터 바꾸는중 \n",
    "    if stage >= 2:\n",
    "        temp = (stage - 48) % 40\n",
    "        temp2 = (stage - 48) // 40  # Python에서 //는 정수 나눗셈\n",
    "        a1 = 2000\n",
    "        a2 = (5 + 1 * temp)\n",
    "        a3 = 30 \n",
    "        a4 = (2 + 1*temp)%4\n",
    "        a5 = 1\n",
    "        \n",
    "        # 디버깅 로그 출력\n",
    "        print(f\"Debug: temp = {temp}, temp2 = {temp2}\")\n",
    "        print(f\"monster_hp_stat_excel = {a1},{a2},{a3},{a4},{a5}\")\n",
    "    \n",
    "    return monster_hp_stat_excel\n",
    "\n",
    "# 테스트용 호출\n",
    "stage = 83 # 예시 stage 값\n",
    "result = aa(stage)"
   ]
  }
 ],
 "metadata": {
  "kernelspec": {
   "display_name": "Python 3",
   "language": "python",
   "name": "python3"
  },
  "language_info": {
   "codemirror_mode": {
    "name": "ipython",
    "version": 3
   },
   "file_extension": ".py",
   "mimetype": "text/x-python",
   "name": "python",
   "nbconvert_exporter": "python",
   "pygments_lexer": "ipython3",
   "version": "3.13.1"
  }
 },
 "nbformat": 4,
 "nbformat_minor": 2
}
